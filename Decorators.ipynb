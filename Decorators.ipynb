{
 "cells": [
  {
   "cell_type": "code",
   "execution_count": 9,
   "id": "affafe7b-a425-49c1-9a39-3ca61a72784a",
   "metadata": {
    "tags": []
   },
   "outputs": [],
   "source": [
    "def test():\n",
    "    print(\"this is the start of function\")\n",
    "    print(\"this is my fun of test\")\n",
    "    print(8+9)\n",
    "    print(\"this is end of the function\")\n"
   ]
  },
  {
   "cell_type": "code",
   "execution_count": 10,
   "id": "fe1e677e-571a-4d93-8799-9ef0f1ead334",
   "metadata": {
    "tags": []
   },
   "outputs": [
    {
     "name": "stdout",
     "output_type": "stream",
     "text": [
      "this is the start of function\n",
      "this is my fun of test\n",
      "17\n",
      "this is end of the function\n"
     ]
    }
   ],
   "source": [
    "test()"
   ]
  },
  {
   "cell_type": "markdown",
   "id": "99654ca4-2f98-4846-aca1-40190d80622f",
   "metadata": {},
   "source": [
    "jo uppar likha usko ab decorator me likho"
   ]
  },
  {
   "cell_type": "code",
   "execution_count": 11,
   "id": "009655d5-8389-4a18-9664-9975eef5d5a9",
   "metadata": {
    "tags": []
   },
   "outputs": [],
   "source": [
    "def dec(func):\n",
    "    def inner_dec():\n",
    "        print(\"this is the start of function\")\n",
    "        func()\n",
    "        print(\"this is end of the function\")\n",
    "        \n",
    "    return inner_dec\n",
    "        \n",
    "        \n",
    "        "
   ]
  },
  {
   "cell_type": "code",
   "execution_count": 13,
   "id": "6f17921c-7449-4d93-a866-ddaa39473ed2",
   "metadata": {
    "tags": []
   },
   "outputs": [],
   "source": [
    "@dec\n",
    "def test1():\n",
    "    print(6+7)"
   ]
  },
  {
   "cell_type": "code",
   "execution_count": 14,
   "id": "c93be413-c908-4b9d-a677-895630709133",
   "metadata": {
    "tags": []
   },
   "outputs": [
    {
     "name": "stdout",
     "output_type": "stream",
     "text": [
      "this is the start of function\n",
      "13\n",
      "this is end of the function\n"
     ]
    }
   ],
   "source": [
    "test1()"
   ]
  },
  {
   "cell_type": "code",
   "execution_count": 15,
   "id": "712ba7e5-0e7c-48f5-ba9e-987b57450e46",
   "metadata": {
    "tags": []
   },
   "outputs": [],
   "source": [
    "import time\n",
    "\n",
    "def timer_test(func):\n",
    "    def timer_test_inner():\n",
    "        start = time.time()\n",
    "        func()\n",
    "        end = time.time()\n",
    "        print(end-start)\n",
    "    return timer_test_inner"
   ]
  },
  {
   "cell_type": "code",
   "execution_count": 20,
   "id": "1a9adf5e-e8f5-4850-884c-202ebaa673c6",
   "metadata": {
    "tags": []
   },
   "outputs": [],
   "source": [
    "\n",
    "def test2():\n",
    "    print(23+49)"
   ]
  },
  {
   "cell_type": "code",
   "execution_count": 21,
   "id": "18653178-b5cf-462d-a2b6-3adae049e9e1",
   "metadata": {
    "tags": []
   },
   "outputs": [
    {
     "name": "stdout",
     "output_type": "stream",
     "text": [
      "72\n"
     ]
    }
   ],
   "source": [
    "test2()"
   ]
  },
  {
   "cell_type": "code",
   "execution_count": 22,
   "id": "1133c0ee-c997-4fb5-934a-26bceb103567",
   "metadata": {
    "tags": []
   },
   "outputs": [],
   "source": [
    "@timer_test\n",
    "def test2():\n",
    "    print(49+23)"
   ]
  },
  {
   "cell_type": "code",
   "execution_count": 23,
   "id": "4345a89e-53ee-4d63-8079-3e1dba5ffe55",
   "metadata": {
    "tags": []
   },
   "outputs": [
    {
     "name": "stdout",
     "output_type": "stream",
     "text": [
      "72\n",
      "0.0\n"
     ]
    }
   ],
   "source": [
    "test2()"
   ]
  },
  {
   "cell_type": "code",
   "execution_count": 24,
   "id": "c948fa13-6b88-4a16-a407-11962db3cf1c",
   "metadata": {
    "tags": []
   },
   "outputs": [],
   "source": [
    "@timer_test\n",
    "def test3():\n",
    "    for i in range(100000):\n",
    "        pass"
   ]
  },
  {
   "cell_type": "code",
   "execution_count": 25,
   "id": "626a3cce-d094-4852-b87d-da69ab86f1f2",
   "metadata": {
    "tags": []
   },
   "outputs": [
    {
     "name": "stdout",
     "output_type": "stream",
     "text": [
      "0.005260467529296875\n"
     ]
    }
   ],
   "source": [
    "test3()"
   ]
  },
  {
   "cell_type": "code",
   "execution_count": 37,
   "id": "0869f439-c325-41d7-ac60-0e92d91df377",
   "metadata": {
    "tags": []
   },
   "outputs": [],
   "source": [
    "class bank_account():\n",
    "    def __init__(self, balance):\n",
    "        self.__balance = balance\n",
    "        \n",
    "    def deposite(self, amount):\n",
    "        self.__balance = self.__balance +amount\n",
    "    def withdraw(self, amount):\n",
    "        if self.__balance >= amount:\n",
    "            self.__balance = self.__balance - amount\n",
    "            return True\n",
    "        else:\n",
    "            return False\n",
    "            \n",
    "    def get_balance(self,):\n",
    "        return self.__balance"
   ]
  },
  {
   "cell_type": "code",
   "execution_count": 38,
   "id": "ec6c6c86-bc14-4e57-8e72-cd6e63866dd4",
   "metadata": {
    "tags": []
   },
   "outputs": [],
   "source": [
    "kuld = bank_account(50000)"
   ]
  },
  {
   "cell_type": "code",
   "execution_count": 39,
   "id": "123a2e14-23a3-47df-993c-913cbf3b02a6",
   "metadata": {
    "tags": []
   },
   "outputs": [
    {
     "data": {
      "text/plain": [
       "50000"
      ]
     },
     "execution_count": 39,
     "metadata": {},
     "output_type": "execute_result"
    }
   ],
   "source": [
    "kuld.get_balance()"
   ]
  },
  {
   "cell_type": "code",
   "execution_count": 40,
   "id": "d73c3952-7928-4956-b386-a9dc1b810706",
   "metadata": {
    "tags": []
   },
   "outputs": [],
   "source": [
    "kuld.deposite(50000)"
   ]
  },
  {
   "cell_type": "code",
   "execution_count": 41,
   "id": "9fb65099-e3ef-4442-b60b-26c8e1f1d253",
   "metadata": {
    "tags": []
   },
   "outputs": [
    {
     "data": {
      "text/plain": [
       "100000"
      ]
     },
     "execution_count": 41,
     "metadata": {},
     "output_type": "execute_result"
    }
   ],
   "source": [
    "kuld.get_balance()"
   ]
  },
  {
   "cell_type": "code",
   "execution_count": 42,
   "id": "4483729f-88bc-4686-ac1e-b8165180194c",
   "metadata": {
    "tags": []
   },
   "outputs": [
    {
     "data": {
      "text/plain": [
       "True"
      ]
     },
     "execution_count": 42,
     "metadata": {},
     "output_type": "execute_result"
    }
   ],
   "source": [
    "kuld.withdraw(99)"
   ]
  },
  {
   "cell_type": "code",
   "execution_count": 43,
   "id": "b199e5fc-b920-418c-8fac-67c31a044bdf",
   "metadata": {
    "tags": []
   },
   "outputs": [
    {
     "data": {
      "text/plain": [
       "99901"
      ]
     },
     "execution_count": 43,
     "metadata": {},
     "output_type": "execute_result"
    }
   ],
   "source": [
    "kuld.get_balance()"
   ]
  },
  {
   "cell_type": "code",
   "execution_count": null,
   "id": "2148cfbf-b944-4faa-b5d4-944934629977",
   "metadata": {},
   "outputs": [],
   "source": []
  }
 ],
 "metadata": {
  "kernelspec": {
   "display_name": "Python 3 (ipykernel)",
   "language": "python",
   "name": "python3"
  },
  "language_info": {
   "codemirror_mode": {
    "name": "ipython",
    "version": 3
   },
   "file_extension": ".py",
   "mimetype": "text/x-python",
   "name": "python",
   "nbconvert_exporter": "python",
   "pygments_lexer": "ipython3",
   "version": "3.11.5"
  }
 },
 "nbformat": 4,
 "nbformat_minor": 5
}
